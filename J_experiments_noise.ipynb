{
 "cells": [
  {
   "cell_type": "code",
   "execution_count": 338,
   "id": "11c5176f",
   "metadata": {},
   "outputs": [],
   "source": [
    "import numpy as np\n",
    "import jax\n",
    "import jax.numpy as jnp\n",
    "import optax\n",
    "import pulp\n",
    "import importlib\n",
    "import matplotlib.pyplot as plt\n",
    "import time as time"
   ]
  },
  {
   "cell_type": "code",
   "execution_count": 339,
   "id": "db0085e5",
   "metadata": {},
   "outputs": [],
   "source": [
    "import GGM_sampler\n",
    "import GGM_inference\n",
    "import GGM_diagnostics\n",
    "import J_sampler\n",
    "import J_inference\n",
    "import J_diagnostics"
   ]
  },
  {
   "cell_type": "code",
   "execution_count": 340,
   "id": "a6e2b03a",
   "metadata": {},
   "outputs": [
    {
     "data": {
      "text/plain": [
       "<module 'J_sampler' from '/Users/lucaraffo/Desktop/final/J_sampler.py'>"
      ]
     },
     "execution_count": 340,
     "metadata": {},
     "output_type": "execute_result"
    }
   ],
   "source": [
    "importlib.reload(GGM_inference)\n",
    "importlib.reload(GGM_diagnostics)\n",
    "importlib.reload(GGM_sampler)\n",
    "importlib.reload(J_inference)\n",
    "importlib.reload(J_diagnostics)\n",
    "importlib.reload(J_sampler)"
   ]
  },
  {
   "cell_type": "code",
   "execution_count": 341,
   "id": "70b5e1ee",
   "metadata": {},
   "outputs": [],
   "source": [
    "n_spins = 5\n",
    "n_samples = 500"
   ]
  },
  {
   "cell_type": "code",
   "execution_count": 342,
   "id": "4860d069",
   "metadata": {},
   "outputs": [],
   "source": [
    "J_01 = J_sampler.J_maker_01(n_spins)\n",
    "h = jnp.diag(J_01)"
   ]
  },
  {
   "cell_type": "code",
   "execution_count": 343,
   "id": "dc846bc2",
   "metadata": {},
   "outputs": [
    {
     "name": "stdout",
     "output_type": "stream",
     "text": [
      "[[0. 1. 1. 1. 0.]\n",
      " [1. 0. 1. 1. 0.]\n",
      " [1. 1. 0. 0. 0.]\n",
      " [1. 1. 0. 0. 0.]\n",
      " [0. 0. 0. 0. 0.]]\n"
     ]
    }
   ],
   "source": [
    "print(J_01)"
   ]
  },
  {
   "cell_type": "code",
   "execution_count": 344,
   "id": "6845b9d2",
   "metadata": {},
   "outputs": [],
   "source": [
    "samples = J_sampler.J_sampler_noise(n_samples, J_01, h, p = 0.1)"
   ]
  },
  {
   "cell_type": "code",
   "execution_count": 346,
   "id": "f6cd64f3",
   "metadata": {},
   "outputs": [],
   "source": [
    "histogram = J_sampler._samples_to_histogram(samples)"
   ]
  },
  {
   "cell_type": "code",
   "execution_count": null,
   "id": "379c8be0",
   "metadata": {},
   "outputs": [
    {
     "ename": "SyntaxError",
     "evalue": "invalid syntax (930177988.py, line 1)",
     "output_type": "error",
     "traceback": [
      "  \u001b[36mCell\u001b[39m\u001b[36m \u001b[39m\u001b[32mIn[347]\u001b[39m\u001b[32m, line 1\u001b[39m\n\u001b[31m    \u001b[39m\u001b[31mJ_hat_ histor = J_inference.inverse_ising(\"EMHT\", 0.1, \"Y\", histogram, n_steps = 100)\u001b[39m\n           ^\n\u001b[31mSyntaxError\u001b[39m\u001b[31m:\u001b[39m invalid syntax\n"
     ]
    }
   ],
   "source": [
    "J_hat, histor = J_inference.inverse_ising(\"EMHT\", 0.1, \"Y\", histogram, n_steps = 100)"
   ]
  },
  {
   "cell_type": "code",
   "execution_count": null,
   "id": "2860ceda",
   "metadata": {},
   "outputs": [],
   "source": []
  }
 ],
 "metadata": {
  "kernelspec": {
   "display_name": ".venv",
   "language": "python",
   "name": "python3"
  },
  "language_info": {
   "codemirror_mode": {
    "name": "ipython",
    "version": 3
   },
   "file_extension": ".py",
   "mimetype": "text/x-python",
   "name": "python",
   "nbconvert_exporter": "python",
   "pygments_lexer": "ipython3",
   "version": "3.13.0"
  }
 },
 "nbformat": 4,
 "nbformat_minor": 5
}

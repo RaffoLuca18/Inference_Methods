{
 "cells": [
  {
   "cell_type": "code",
   "execution_count": 141,
   "id": "c22a4ea8",
   "metadata": {},
   "outputs": [],
   "source": [
    "import numpy as np\n",
    "import importlib\n",
    "import jax\n",
    "import jax.numpy as jnp\n",
    "import math\n",
    "\n",
    "import J_sampler\n",
    "import J_inference\n",
    "import J_diagnostics\n",
    "import GGM_sampler\n",
    "import GGM_inference\n",
    "import GGM_diagnostics"
   ]
  },
  {
   "cell_type": "code",
   "execution_count": 146,
   "id": "b20ed585",
   "metadata": {},
   "outputs": [
    {
     "data": {
      "text/plain": [
       "<module 'J_diagnostics' from '/Users/lucaraffo/Desktop/final/J_diagnostics.py'>"
      ]
     },
     "execution_count": 146,
     "metadata": {},
     "output_type": "execute_result"
    }
   ],
   "source": [
    "importlib.reload(J_inference)\n",
    "importlib.reload(J_sampler)\n",
    "importlib.reload(J_diagnostics)"
   ]
  },
  {
   "cell_type": "code",
   "execution_count": 130,
   "id": "306ed469",
   "metadata": {},
   "outputs": [
    {
     "data": {
      "text/plain": [
       "<module 'GGM_diagnostics' from '/Users/lucaraffo/Desktop/final/GGM_diagnostics.py'>"
      ]
     },
     "execution_count": 130,
     "metadata": {},
     "output_type": "execute_result"
    }
   ],
   "source": [
    "importlib.reload(GGM_inference)\n",
    "importlib.reload(GGM_sampler)\n",
    "importlib.reload(GGM_diagnostics)"
   ]
  },
  {
   "cell_type": "code",
   "execution_count": 148,
   "id": "97fd6230",
   "metadata": {},
   "outputs": [],
   "source": [
    "n_spins = 5\n",
    "n_samples = 10000"
   ]
  },
  {
   "cell_type": "code",
   "execution_count": 149,
   "id": "f5916023",
   "metadata": {},
   "outputs": [],
   "source": [
    "J = J_sampler.J_maker_01(n_spins)\n",
    "h = jnp.diag(J)"
   ]
  },
  {
   "cell_type": "code",
   "execution_count": 150,
   "id": "072ee865",
   "metadata": {},
   "outputs": [],
   "source": [
    "samples = J_sampler.J_sampler_noise(n_samples, J, h)"
   ]
  },
  {
   "cell_type": "code",
   "execution_count": 151,
   "id": "1c767d00",
   "metadata": {},
   "outputs": [
    {
     "data": {
      "text/plain": [
       "Array([[0., 1., 1., 1., 0.],\n",
       "       [1., 0., 1., 1., 0.],\n",
       "       [1., 1., 0., 0., 0.],\n",
       "       [1., 1., 0., 0., 0.],\n",
       "       [0., 0., 0., 0., 0.]], dtype=float32)"
      ]
     },
     "execution_count": 151,
     "metadata": {},
     "output_type": "execute_result"
    }
   ],
   "source": [
    "J"
   ]
  },
  {
   "cell_type": "code",
   "execution_count": 107,
   "id": "c8948a74",
   "metadata": {},
   "outputs": [],
   "source": [
    "samples = GGM_sampler.precision_sampler_sign(J + 1.1 * jnp.eye(len(J[0])), n_samples)"
   ]
  },
  {
   "cell_type": "code",
   "execution_count": 152,
   "id": "5ef05d40",
   "metadata": {},
   "outputs": [
    {
     "data": {
      "text/plain": [
       "Array([[-1, -1, -1, -1, -1],\n",
       "       [-1, -1, -1, -1, -1],\n",
       "       [ 1,  1,  1, -1,  1],\n",
       "       ...,\n",
       "       [ 1,  1,  1, -1,  1],\n",
       "       [-1, -1, -1, -1,  1],\n",
       "       [-1, -1, -1,  1, -1]], dtype=int32)"
      ]
     },
     "execution_count": 152,
     "metadata": {},
     "output_type": "execute_result"
    }
   ],
   "source": [
    "samples"
   ]
  },
  {
   "cell_type": "code",
   "execution_count": 153,
   "id": "dc26b79d",
   "metadata": {},
   "outputs": [],
   "source": [
    "histogram = J_sampler._samples_to_histogram(samples)"
   ]
  },
  {
   "cell_type": "code",
   "execution_count": 154,
   "id": "561ecb73",
   "metadata": {},
   "outputs": [
    {
     "data": {
      "text/plain": [
       "array([[2113,   -1,   -1,   -1,   -1,   -1],\n",
       "       [   5,    1,   -1,   -1,   -1,   -1],\n",
       "       [  41,   -1,    1,   -1,   -1,   -1],\n",
       "       [   5,    1,    1,   -1,   -1,   -1],\n",
       "       [  39,   -1,   -1,    1,   -1,   -1],\n",
       "       [   9,    1,   -1,    1,   -1,   -1],\n",
       "       [  34,   -1,    1,    1,   -1,   -1],\n",
       "       [ 251,    1,    1,    1,   -1,   -1],\n",
       "       [2082,   -1,   -1,   -1,    1,   -1],\n",
       "       [   6,    1,   -1,   -1,    1,   -1],\n",
       "       [  38,   -1,    1,   -1,    1,   -1],\n",
       "       [   5,    1,    1,   -1,    1,   -1],\n",
       "       [  41,   -1,   -1,    1,    1,   -1],\n",
       "       [   4,    1,   -1,    1,    1,   -1],\n",
       "       [  35,   -1,    1,    1,    1,   -1],\n",
       "       [ 279,    1,    1,    1,    1,   -1],\n",
       "       [ 282,   -1,   -1,   -1,   -1,    1],\n",
       "       [  50,    1,   -1,   -1,   -1,    1],\n",
       "       [   3,   -1,    1,   -1,   -1,    1],\n",
       "       [  37,    1,    1,   -1,   -1,    1],\n",
       "       [   8,   -1,   -1,    1,   -1,    1],\n",
       "       [  39,    1,   -1,    1,   -1,    1],\n",
       "       [   6,   -1,    1,    1,   -1,    1],\n",
       "       [2052,    1,    1,    1,   -1,    1],\n",
       "       [ 305,   -1,   -1,   -1,    1,    1],\n",
       "       [  40,    1,   -1,   -1,    1,    1],\n",
       "       [   6,   -1,    1,   -1,    1,    1],\n",
       "       [  49,    1,    1,   -1,    1,    1],\n",
       "       [   5,   -1,   -1,    1,    1,    1],\n",
       "       [  34,    1,   -1,    1,    1,    1],\n",
       "       [   3,   -1,    1,    1,    1,    1],\n",
       "       [2094,    1,    1,    1,    1,    1]])"
      ]
     },
     "execution_count": 154,
     "metadata": {},
     "output_type": "execute_result"
    }
   ],
   "source": [
    "histogram"
   ]
  },
  {
   "cell_type": "code",
   "execution_count": 155,
   "id": "790be9dc",
   "metadata": {},
   "outputs": [
    {
     "data": {
      "text/plain": [
       "Array([[0., 1., 1., 1., 0.],\n",
       "       [1., 0., 1., 1., 0.],\n",
       "       [1., 1., 0., 0., 0.],\n",
       "       [1., 1., 0., 0., 0.],\n",
       "       [0., 0., 0., 0., 0.]], dtype=float32)"
      ]
     },
     "execution_count": 155,
     "metadata": {},
     "output_type": "execute_result"
    }
   ],
   "source": [
    "J"
   ]
  },
  {
   "cell_type": "code",
   "execution_count": 156,
   "id": "3b1e2303",
   "metadata": {},
   "outputs": [
    {
     "name": "stdout",
     "output_type": "stream",
     "text": [
      "λ = 0.0024929  (reg = 0.1)\n",
      "[1/5] reconstruction spin 0\n",
      "[2/5] reconstruction spin 1\n",
      "[3/5] reconstruction spin 2\n",
      "[4/5] reconstruction spin 3\n",
      "[5/5] reconstruction spin 4\n"
     ]
    }
   ],
   "source": [
    "J_hat, _ = J_inference.inverse_ising(\"RISE\", 0.1, \"Y\", histogram)"
   ]
  },
  {
   "cell_type": "code",
   "execution_count": 158,
   "id": "4d466615",
   "metadata": {},
   "outputs": [
    {
     "data": {
      "text/plain": [
       "array([[ 3.9739780e-02,  9.6317559e-01,  9.4144428e-01,  5.6339004e-03,\n",
       "         9.3378496e-01],\n",
       "       [ 9.6317559e-01, -5.2865068e-03,  1.0024781e+00,  1.7158655e-02,\n",
       "         6.9360062e-02],\n",
       "       [ 9.4144428e-01,  1.0024781e+00, -2.0180767e-02, -9.6366471e-03,\n",
       "         5.3485014e-02],\n",
       "       [ 5.6339004e-03,  1.7158655e-02, -9.6366471e-03,  5.2438434e-03,\n",
       "        -1.9071762e-04],\n",
       "       [ 9.3378496e-01,  6.9360062e-02,  5.3485014e-02, -1.9071762e-04,\n",
       "         2.1863272e-02]], dtype=float32)"
      ]
     },
     "execution_count": 158,
     "metadata": {},
     "output_type": "execute_result"
    }
   ],
   "source": [
    "J_hat"
   ]
  },
  {
   "cell_type": "code",
   "execution_count": null,
   "id": "26ee0b8c",
   "metadata": {},
   "outputs": [],
   "source": []
  },
  {
   "cell_type": "code",
   "execution_count": null,
   "id": "55d3b3b8",
   "metadata": {},
   "outputs": [],
   "source": []
  },
  {
   "cell_type": "code",
   "execution_count": null,
   "id": "b56abd58",
   "metadata": {},
   "outputs": [],
   "source": []
  },
  {
   "cell_type": "code",
   "execution_count": null,
   "id": "36cbea38",
   "metadata": {},
   "outputs": [],
   "source": []
  },
  {
   "cell_type": "code",
   "execution_count": null,
   "id": "67c5de25",
   "metadata": {},
   "outputs": [],
   "source": []
  },
  {
   "cell_type": "code",
   "execution_count": null,
   "id": "49deb41a",
   "metadata": {},
   "outputs": [],
   "source": []
  }
 ],
 "metadata": {
  "kernelspec": {
   "display_name": ".venv",
   "language": "python",
   "name": "python3"
  },
  "language_info": {
   "codemirror_mode": {
    "name": "ipython",
    "version": 3
   },
   "file_extension": ".py",
   "mimetype": "text/x-python",
   "name": "python",
   "nbconvert_exporter": "python",
   "pygments_lexer": "ipython3",
   "version": "3.13.0"
  }
 },
 "nbformat": 4,
 "nbformat_minor": 5
}

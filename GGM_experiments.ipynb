{
 "cells": [
  {
   "cell_type": "code",
   "execution_count": 4,
   "id": "a9192a08",
   "metadata": {},
   "outputs": [],
   "source": [
    "import numpy as np\n",
    "import jax\n",
    "import jax.numpy as jnp\n",
    "import optax\n",
    "import pulp\n",
    "import importlib\n",
    "from sklearn.covariance import graphical_lasso as skl_graphical_lasso\n",
    "\n",
    "import GGM_sampler\n",
    "import GGM_inference\n",
    "import GGM_diagnostics"
   ]
  },
  {
   "cell_type": "code",
   "execution_count": 6,
   "id": "df6d6018",
   "metadata": {},
   "outputs": [
    {
     "data": {
      "text/plain": [
       "<module 'GGM_sampler' from '/Users/lucaraffo/Desktop/final/GGM_sampler.py'>"
      ]
     },
     "execution_count": 6,
     "metadata": {},
     "output_type": "execute_result"
    }
   ],
   "source": [
    "importlib.reload(GGM_inference)\n",
    "importlib.reload(GGM_diagnostics)\n",
    "importlib.reload(GGM_sampler)"
   ]
  },
  {
   "cell_type": "code",
   "execution_count": 7,
   "id": "150b7d1a",
   "metadata": {},
   "outputs": [],
   "source": [
    "n_spins = 10\n",
    "n_samples = 100\n",
    "\n",
    "precision = GGM_sampler.precision_maker(n_spins, p = 0.1)\n",
    "\n",
    "samples = GGM_sampler.precision_sampler(precision, n_samples)"
   ]
  },
  {
   "cell_type": "code",
   "execution_count": null,
   "id": "46b48789",
   "metadata": {},
   "outputs": [],
   "source": []
  }
 ],
 "metadata": {
  "kernelspec": {
   "display_name": ".venv",
   "language": "python",
   "name": "python3"
  },
  "language_info": {
   "codemirror_mode": {
    "name": "ipython",
    "version": 3
   },
   "file_extension": ".py",
   "mimetype": "text/x-python",
   "name": "python",
   "nbconvert_exporter": "python",
   "pygments_lexer": "ipython3",
   "version": "3.13.0"
  }
 },
 "nbformat": 4,
 "nbformat_minor": 5
}

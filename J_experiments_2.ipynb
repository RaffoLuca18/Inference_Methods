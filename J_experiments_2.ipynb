{
 "cells": [
  {
   "cell_type": "code",
   "execution_count": 1,
   "id": "364ffd07",
   "metadata": {},
   "outputs": [],
   "source": [
    "import numpy as np\n",
    "import jax\n",
    "import jax.numpy as jnp\n",
    "import optax\n",
    "import pulp\n",
    "import importlib\n",
    "import matplotlib.pyplot as plt\n",
    "import time"
   ]
  },
  {
   "cell_type": "code",
   "execution_count": 2,
   "id": "f2672e35",
   "metadata": {},
   "outputs": [],
   "source": [
    "import J_sampler\n",
    "import J_inference\n",
    "import J_diagnostics"
   ]
  },
  {
   "cell_type": "code",
   "execution_count": 3,
   "id": "a4dec0f8",
   "metadata": {},
   "outputs": [
    {
     "data": {
      "text/plain": [
       "<module 'J_sampler' from '/Users/lucaraffo/Desktop/final/J_sampler.py'>"
      ]
     },
     "execution_count": 3,
     "metadata": {},
     "output_type": "execute_result"
    }
   ],
   "source": [
    "importlib.reload(J_inference)\n",
    "importlib.reload(J_diagnostics)\n",
    "importlib.reload(J_sampler)"
   ]
  },
  {
   "cell_type": "code",
   "execution_count": 4,
   "id": "5d5890d7",
   "metadata": {},
   "outputs": [],
   "source": [
    "n_spins = 10\n",
    "n_samples = 800"
   ]
  },
  {
   "cell_type": "code",
   "execution_count": 6,
   "id": "d5eb2470",
   "metadata": {},
   "outputs": [],
   "source": [
    "J = J_sampler.J_maker(n_spins)\n",
    "h = jnp.diag(J)"
   ]
  },
  {
   "cell_type": "code",
   "execution_count": 7,
   "id": "e5d1db92",
   "metadata": {},
   "outputs": [],
   "source": [
    "samples = J_sampler.J_sampler(n_samples, J, h)"
   ]
  },
  {
   "cell_type": "code",
   "execution_count": 8,
   "id": "cb9d7213",
   "metadata": {},
   "outputs": [],
   "source": [
    "histogram = J_sampler._samples_to_histogram(samples)"
   ]
  },
  {
   "cell_type": "code",
   "execution_count": 11,
   "id": "936f453a",
   "metadata": {},
   "outputs": [
    {
     "name": "stdout",
     "output_type": "stream",
     "text": [
      "λ = 9.7474e-06  (reg = 0.0001)\n",
      "[1/10] reconstruction spin 0\n",
      "[2/10] reconstruction spin 1\n",
      "[3/10] reconstruction spin 2\n",
      "[4/10] reconstruction spin 3\n",
      "[5/10] reconstruction spin 4\n",
      "[6/10] reconstruction spin 5\n",
      "[7/10] reconstruction spin 6\n",
      "[8/10] reconstruction spin 7\n",
      "[9/10] reconstruction spin 8\n",
      "[10/10] reconstruction spin 9\n"
     ]
    }
   ],
   "source": [
    "J_hat = J_inference.inverse_ising(\"CSM\", 0.0001, \"Y\", histogram)"
   ]
  },
  {
   "cell_type": "code",
   "execution_count": 12,
   "id": "4c6fc763",
   "metadata": {},
   "outputs": [
    {
     "data": {
      "text/plain": [
       "(array([[nan, nan, nan, nan, nan, nan, nan, nan, nan, nan],\n",
       "        [nan, nan, nan, nan, nan, nan, nan, nan, nan, nan],\n",
       "        [nan, nan, nan, nan, nan, nan, nan, nan, nan, nan],\n",
       "        [nan, nan, nan, nan, nan, nan, nan, nan, nan, nan],\n",
       "        [nan, nan, nan, nan, nan, nan, nan, nan, nan, nan],\n",
       "        [nan, nan, nan, nan, nan, nan, nan, nan, nan, nan],\n",
       "        [nan, nan, nan, nan, nan, nan, nan, nan, nan, nan],\n",
       "        [nan, nan, nan, nan, nan, nan, nan, nan, nan, nan],\n",
       "        [nan, nan, nan, nan, nan, nan, nan, nan, nan, nan],\n",
       "        [nan, nan, nan, nan, nan, nan, nan, nan, nan, nan]], dtype=float32),\n",
       " {})"
      ]
     },
     "execution_count": 12,
     "metadata": {},
     "output_type": "execute_result"
    }
   ],
   "source": [
    "J_hat"
   ]
  },
  {
   "cell_type": "code",
   "execution_count": null,
   "id": "411d8a42",
   "metadata": {},
   "outputs": [],
   "source": []
  }
 ],
 "metadata": {
  "kernelspec": {
   "display_name": ".venv",
   "language": "python",
   "name": "python3"
  },
  "language_info": {
   "codemirror_mode": {
    "name": "ipython",
    "version": 3
   },
   "file_extension": ".py",
   "mimetype": "text/x-python",
   "name": "python",
   "nbconvert_exporter": "python",
   "pygments_lexer": "ipython3",
   "version": "3.13.0"
  }
 },
 "nbformat": 4,
 "nbformat_minor": 5
}

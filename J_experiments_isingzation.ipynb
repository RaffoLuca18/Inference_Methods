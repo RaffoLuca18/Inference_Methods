{
 "cells": [
  {
   "cell_type": "code",
   "execution_count": 288,
   "id": "f59ec27f",
   "metadata": {},
   "outputs": [],
   "source": [
    "import numpy as np\n",
    "import jax\n",
    "import jax.numpy as jnp\n",
    "import optax\n",
    "import pulp\n",
    "import importlib\n",
    "import matplotlib.pyplot as plt"
   ]
  },
  {
   "cell_type": "code",
   "execution_count": 289,
   "id": "fa24d8b4",
   "metadata": {},
   "outputs": [],
   "source": [
    "import GGM_sampler\n",
    "import GGM_inference\n",
    "import GGM_diagnostics\n",
    "import J_sampler\n",
    "import J_inference\n",
    "import J_diagnostics"
   ]
  },
  {
   "cell_type": "code",
   "execution_count": 290,
   "id": "3b34e35f",
   "metadata": {},
   "outputs": [
    {
     "data": {
      "text/plain": [
       "<module 'J_sampler' from '/Users/lucaraffo/Desktop/final/J_sampler.py'>"
      ]
     },
     "execution_count": 290,
     "metadata": {},
     "output_type": "execute_result"
    }
   ],
   "source": [
    "importlib.reload(GGM_inference)\n",
    "importlib.reload(GGM_diagnostics)\n",
    "importlib.reload(GGM_sampler)\n",
    "importlib.reload(J_inference)\n",
    "importlib.reload(J_diagnostics)\n",
    "importlib.reload(J_sampler)"
   ]
  },
  {
   "cell_type": "code",
   "execution_count": 285,
   "id": "f6a440dd",
   "metadata": {},
   "outputs": [],
   "source": [
    "n_spins = 10\n",
    "n_samples = 1000"
   ]
  },
  {
   "cell_type": "code",
   "execution_count": 286,
   "id": "5155b22f",
   "metadata": {},
   "outputs": [],
   "source": [
    "J_precision = GGM_sampler.precision_maker(n_spins, seed = 9)"
   ]
  },
  {
   "cell_type": "code",
   "execution_count": null,
   "id": "e2189680",
   "metadata": {},
   "outputs": [],
   "source": [
    "samples = GGM_sampler."
   ]
  }
 ],
 "metadata": {
  "kernelspec": {
   "display_name": ".venv",
   "language": "python",
   "name": "python3"
  },
  "language_info": {
   "codemirror_mode": {
    "name": "ipython",
    "version": 3
   },
   "file_extension": ".py",
   "mimetype": "text/x-python",
   "name": "python",
   "nbconvert_exporter": "python",
   "pygments_lexer": "ipython3",
   "version": "3.13.0"
  }
 },
 "nbformat": 4,
 "nbformat_minor": 5
}
